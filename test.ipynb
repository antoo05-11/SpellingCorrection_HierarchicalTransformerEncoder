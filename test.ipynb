{
 "cells": [
  {
   "cell_type": "code",
   "execution_count": 1,
   "id": "initial_id",
   "metadata": {
    "collapsed": true,
    "ExecuteTime": {
     "end_time": "2024-03-31T11:15:53.527393Z",
     "start_time": "2024-03-31T11:15:47.891650Z"
    }
   },
   "outputs": [
    {
     "name": "stderr",
     "output_type": "stream",
     "text": [
      "2024-03-31 18:15:48.481305: I tensorflow/core/util/port.cc:110] oneDNN custom operations are on. You may see slightly different numerical results due to floating-point round-off errors from different computation orders. To turn them off, set the environment variable `TF_ENABLE_ONEDNN_OPTS=0`.\n",
      "2024-03-31 18:15:48.486062: I tensorflow/tsl/cuda/cudart_stub.cc:28] Could not find cuda drivers on your machine, GPU will not be used.\n",
      "2024-03-31 18:15:48.574686: I tensorflow/tsl/cuda/cudart_stub.cc:28] Could not find cuda drivers on your machine, GPU will not be used.\n",
      "2024-03-31 18:15:48.576715: I tensorflow/core/platform/cpu_feature_guard.cc:182] This TensorFlow binary is optimized to use available CPU instructions in performance-critical operations.\n",
      "To enable the following instructions: AVX2 AVX512F AVX512_VNNI FMA, in other operations, rebuild TensorFlow with the appropriate compiler flags.\n",
      "2024-03-31 18:15:49.533050: W tensorflow/compiler/tf2tensorrt/utils/py_utils.cc:38] TF-TRT Warning: Could not find TensorRT\n"
     ]
    }
   ],
   "source": [
    "import numpy as np\n",
    "import pandas as pd\n",
    "import tensorflow as tf\n",
    "\n",
    "data = pd.read_csv('data/vi_processed.csv')\n",
    "\n",
    "correct_texts = []\n",
    "error_texts = []\n",
    "\n",
    "for index, row in data.iterrows():\n",
    "    if len(correct_texts) == 100: break\n",
    "    correct_texts.append(row.correct_text)\n",
    "    error_texts.append(row.error_text)\n",
    "\n",
    "correct_texts = correct_texts[:1000]\n",
    "error_texts = error_texts[:1000]\n"
   ]
  },
  {
   "cell_type": "code",
   "outputs": [],
   "source": [
    "from tensorflow.keras.preprocessing.text import Tokenizer\n",
    "\n",
    "vocab_size = 100000\n",
    "word_level_tokenizer = Tokenizer(num_words=vocab_size, oov_token='<UNK>', lower=True, split=' ', )\n",
    "\n",
    "word_unk_level_tokenizer = Tokenizer(oov_token='<UNK>', lower=True, split=' ', )\n",
    "\n",
    "character_vocab_size = 10000\n",
    "character_level_tokenizer = Tokenizer(num_words=character_vocab_size, lower=True, char_level=True)"
   ],
   "metadata": {
    "collapsed": false,
    "ExecuteTime": {
     "end_time": "2024-03-31T11:15:53.562648Z",
     "start_time": "2024-03-31T11:15:53.529515Z"
    }
   },
   "id": "b3752f20d0d04fc5",
   "execution_count": 2
  },
  {
   "cell_type": "code",
   "outputs": [
    {
     "data": {
      "text/plain": "OrderedDict([('nếu', 3),\n             ('làm', 22),\n             ('được', 18),\n             ('như', 10),\n             ('vậy', 3),\n             ('thì', 5),\n             ('chắc', 1),\n             ('chắn', 1),\n             ('sẽ', 12),\n             ('không', 31),\n             ('còn', 13),\n             ('trường', 5),\n             ('nào', 4),\n             ('tùy', 1),\n             ('tiện', 3),\n             ('thu', 1),\n             ('tiền', 6),\n             ('cao', 4),\n             ('gây', 3),\n             ('sự', 15),\n             ('lo', 2),\n             ('lắng', 1),\n             ('của', 43),\n             ('phụ', 7),\n             ('huynh', 1),\n             ('và', 33),\n             ('ai', 1),\n             ('có', 35),\n             ('cần', 4),\n             ('đóng', 2),\n             ('mọi', 2),\n             ('liên', 2),\n             ('lạc', 1),\n             ('báo', 6),\n             ('cáo', 3),\n             ('phê', 1),\n             ('duyệt', 2),\n             ('hướng', 1),\n             ('dẫn', 3),\n             ('giữa', 1),\n             ('các', 27),\n             ('cấp', 2),\n             ('chính', 7),\n             ('quyền', 2),\n             ('trong', 33),\n             ('tỉnh', 2),\n             ('đều', 5),\n             ('thực', 7),\n             ('hiện', 11),\n             ('điều', 4),\n             ('hành', 7),\n             ('trực', 3),\n             ('tuyến', 1),\n             ('thông', 5),\n             ('qua', 5),\n             ('cơ', 2),\n             ('chế', 2),\n             ('rõ', 2),\n             ('ràng', 1),\n             ('nhất', 10),\n             ('quán', 3),\n             ('với', 23),\n             ('tất', 3),\n             ('cả', 4),\n             ('nhân', 2),\n             ('viên', 3),\n             ('giải', 7),\n             ('quyết', 5),\n             ('triệt', 1),\n             ('để', 17),\n             ('những', 27),\n             ('tồn', 1),\n             ('đọng', 1),\n             ('yếu', 4),\n             ('kém', 1),\n             ('mà', 7),\n             ('hệ', 2),\n             ('thống', 3),\n             ('nặng', 2),\n             ('về', 7),\n             ('sử', 3),\n             ('dụng', 5),\n             ('giấy', 2),\n             ('tờ', 2),\n             ('trước', 11),\n             ('kia', 2),\n             ('tạo', 3),\n             ('ra', 14),\n             ('bàn', 3),\n             ('thắng', 5),\n             ('duy', 1),\n             ('trận', 3),\n             ('đấu', 2),\n             ('ghi', 4),\n             ('ở', 19),\n             ('phút', 3),\n             ('85', 1),\n             ('do', 2),\n             ('công', 4),\n             ('đạo', 3),\n             ('manit', 1),\n             ('minh', 3),\n             ('hải', 1),\n             ('tỷ', 4),\n             ('lệ', 1),\n             ('nhà', 9),\n             ('hàng', 9),\n             ('trung', 6),\n             ('hoa', 5),\n             ('so', 2),\n             ('việt', 4),\n             ('nam', 6),\n             ('mỹ', 4),\n             ('ít', 5),\n             ('là', 32),\n             ('6', 3),\n             ('1', 5),\n             ('trừ', 3),\n             ('quận', 2),\n             ('cam', 1),\n             ('california', 1),\n             ('vốn', 3),\n             ('nơi', 5),\n             ('chợ', 1),\n             ('nói', 8),\n             ('tiếng', 3),\n             ('anh', 8),\n             ('chỉ', 13),\n             ('cũng', 12),\n             ('đủ', 3),\n             ('tuy', 4),\n             ('nhiên', 5),\n             ('chú', 2),\n             ('ý', 9),\n             ('bên', 6),\n             ('tướng', 1),\n             ('chết', 3),\n             ('hoặc', 4),\n             ('bị', 9),\n             ('bắt', 6),\n             ('sống', 6),\n             ('tự', 6),\n             ('động', 11),\n             ('thua', 2),\n             ('xây', 2),\n             ('dựng', 2),\n             ('khi', 15),\n             ('hoàn', 3),\n             ('trình', 2),\n             ('việc', 9),\n             ('bài', 4),\n             ('trí', 3),\n             ('sắp', 1),\n             ('đặt', 2),\n             ('đồ', 1),\n             ('dùng', 3),\n             ('thường', 4),\n             ('lộ', 1),\n             ('góc', 1),\n             ('đó', 20),\n             ('nhiều', 14),\n             ('đa', 5),\n             ('dạng', 2),\n             ('hồng', 3),\n             ('16', 2),\n             ('màu', 4),\n             ('hưởng', 3),\n             ('hết', 3),\n             ('máy', 5),\n             ('tính', 8),\n             ('xách', 2),\n             ('tay', 10),\n             ('bạn', 8),\n             ('truy', 2),\n             ('cập', 2),\n             ('internet', 1),\n             ('tại', 8),\n             ('điểm', 5),\n             ('hot', 1),\n             ('spot', 1),\n             ('wi', 1),\n             ('fi', 1),\n             ('sân', 5),\n             ('bay', 4),\n             ('phòng', 6),\n             ('họp', 2),\n             ('khách', 6),\n             ('sạn', 3),\n             ('mẫu', 3),\n             ('laptop', 1),\n             ('gần', 3),\n             ('đây', 4),\n             ('trang', 4),\n             ('bộ', 3),\n             ('vi', 1),\n             ('xử', 1),\n             ('lý', 3),\n             ('gắn', 1),\n             ('hỗ', 1),\n             ('trợ', 1),\n             ('cho', 33),\n             ('kết', 2),\n             ('nối', 2),\n             ('dây', 1),\n             ('chip', 1),\n             ('opteron', 1),\n             ('152', 1),\n             ('417', 1),\n             ('usd', 5),\n             ('637', 1),\n             ('cuộc', 4),\n             ('thi', 3),\n             ('hậu', 2),\n             ('toàn', 5),\n             ('quốc', 5),\n             ('năm', 7),\n             ('2004', 1),\n             ('đầu', 10),\n             ('chị', 4),\n             ('đã', 20),\n             ('trò', 5),\n             ('chuyện', 4),\n             ('vinh', 1),\n             ('quang', 2),\n             ('chiếc', 3),\n             ('vương', 1),\n             ('miện', 1),\n             ('này', 17),\n             ('tiếp', 6),\n             ('vì', 8),\n             ('sao', 2),\n             ('sau', 12),\n             ('đăng', 3),\n             ('lại', 12),\n             ('chuyển', 2),\n             ('sang', 3),\n             ('lĩnh', 1),\n             ('vực', 3),\n             ('thời', 6),\n             ('tố', 2),\n             ('tâm', 3),\n             ('ảnh', 2),\n             ('đến', 12),\n             ('tình', 7),\n             ('trạng', 2),\n             ('da', 6),\n             ('tham', 4),\n             ('vấn', 6),\n             ('giám', 3),\n             ('đốc', 3),\n             ('tuyển', 4),\n             ('sinh', 10),\n             ('shms', 1),\n             ('một', 32),\n             ('số', 8),\n             ('đại', 1),\n             ('sứ', 1),\n             ('muốn', 2),\n             ('apec', 2),\n             ('nhưng', 12),\n             ('nhận', 6),\n             ('ông', 10),\n             ('quỳnh', 1),\n             ('kể', 2),\n             ('theo', 8),\n             ('vị', 6),\n             ('kiện', 2),\n             ('lớn', 4),\n             ('phản', 2),\n             ('đối', 4),\n             ('phân', 1),\n             ('bổ', 1),\n             ('nó', 7),\n             ('quan', 6),\n             ('an', 3),\n             ('ninh', 2),\n             ('chặng', 1),\n             ('di', 2),\n             ('nguyên', 1),\n             ('thủ', 2),\n             ('gia', 9),\n             ('loại', 7),\n             ('bây', 1),\n             ('giờ', 2),\n             ('chưa', 4),\n             ('tên', 3),\n             ('gọi', 2),\n             ('thể', 17),\n             ('trái', 4),\n             ('phiếu', 2),\n             ('tổng', 3),\n             ('vcb', 1),\n             ('vũ', 1),\n             ('viết', 1),\n             ('ngoạn', 2),\n             ('trao', 1),\n             ('đổi', 3),\n             ('vnexpress', 1),\n             ('biết', 5),\n             ('thêm', 1),\n             ('phủ', 2),\n             ('2006', 1),\n             ('phải', 9),\n             ('phát', 5),\n             ('cổ', 6),\n             ('phổ', 1),\n             ('họ', 6),\n             ('thích', 4),\n             ('cách', 5),\n             ('dễ', 2),\n             ('dàng', 2),\n             ('hứng', 1),\n             ('thú', 1),\n             ('bọn', 2),\n             ('trẻ', 3),\n             ('giới', 7),\n             ('lập', 2),\n             ('dấu', 2),\n             ('hiệu', 5),\n             ('chứng', 2),\n             ('dục', 1),\n             ('đồng', 8),\n             ('luyến', 1),\n             ('ái', 1),\n             ('a', 1),\n             ('hùng', 2),\n             ('hả', 1),\n             ('đang', 5),\n             ('uống', 3),\n             ('bia', 3),\n             ('cùng', 4),\n             ('mạnh', 2),\n             ('hà', 2),\n             ('alô', 1),\n             ('dũng', 1),\n             ('à', 1),\n             ('bảo', 2),\n             ('ngay', 1),\n             ('vẫn', 3),\n             ('thấy', 6),\n             ('đâu', 1),\n             ('tao', 1),\n             ('say', 1),\n             ('rồi', 3),\n             ('đơn', 4),\n             ('đảm', 2),\n             ('đương', 2),\n             ('tư', 1),\n             ('phần', 6),\n             ('hóa', 5),\n             ('doanh', 6),\n             ('nghiệp', 6),\n             ('đề', 5),\n             ('gian', 3),\n             ('hay', 2),\n             ('nay', 6),\n             ('mục', 3),\n             ('tiêu', 5),\n             ('trên', 10),\n             ('000', 1),\n             ('nước', 6),\n             ('tiến', 2),\n             ('hơn', 10),\n             ('400', 1),\n             ('buổi', 4),\n             ('hội', 6),\n             ('thảo', 1),\n             ('5', 3),\n             ('học', 12),\n             ('ký', 2),\n             ('tiên', 2),\n             ('mỗi', 3),\n             ('người', 20),\n             ('vé', 1),\n             ('chiều', 3),\n             ('đi', 3),\n             ('singapore', 1),\n             ('vay', 1),\n             ('từ', 6),\n             ('ngày', 5),\n             ('10', 4),\n             ('thử', 2),\n             ('nghiệm', 3),\n             ('2', 5),\n             ('tuần', 2),\n             ('rút', 1),\n             ('kinh', 5),\n             ('kem', 1),\n             ('phấn', 2),\n             ('nền', 1),\n             ('giúp', 5),\n             ('trả', 1),\n             ('vẻ', 2),\n             ('đẹp', 2),\n             ('quyến', 2),\n             ('rũ', 1),\n             ('làn', 2),\n             ('rana', 1),\n             ('khẳng', 1),\n             ('định', 6),\n             ('eu', 3),\n             ('tụng', 1),\n             ('lên', 6),\n             ('wto', 3),\n             ('quy', 1),\n             ('tắc', 1),\n             ('tổ', 2),\n             ('chức', 3),\n             ('khuyến', 1),\n             ('nên', 8),\n             ('phương', 4),\n             ('đưa', 2),\n             ('bởi', 3),\n             ('hoạt', 7),\n             ('thương', 4),\n             ('mại', 2),\n             ('cầu', 4),\n             ('uy', 1),\n             ('tín', 1),\n             ('forum', 1),\n             ('online', 1),\n             ('đời', 2),\n             ('du', 3),\n             ('vn', 1),\n             ('pháp', 5),\n             ('nhau', 5),\n             ('chia', 5),\n             ('sẻ', 2),\n             ('tập', 4),\n             ('ăn', 4),\n             ('svvn', 1),\n             ('giang', 1),\n             ('giữ', 3),\n             ('vai', 3),\n             ('thư', 2),\n             ('xăng', 1),\n             ('xái', 1),\n             ('nhịp', 1),\n             ('đình', 2),\n             ('nghề', 2),\n             ('tôi', 14),\n             ('triển', 2),\n             ('thuận', 2),\n             ('lợi', 2),\n             ('ngoài', 2),\n             ('diễn', 3),\n             ('sàn', 2),\n             ('giảng', 1),\n             ('dạy', 1),\n             ('đặc', 3),\n             ('biệt', 3),\n             ('khúc', 1),\n             ('văn', 2),\n             ('phụng', 1),\n             ('xuất', 4),\n             ('ca', 3),\n             ('sĩ', 2),\n             ('vang', 1),\n             ('bóng', 4),\n             ('chúng', 5),\n             ('tốt', 3),\n             ('mạo', 1),\n             ('hiểm', 1),\n             ('nữa', 2),\n             ('xác', 1),\n             ('mở', 1),\n             ('rộng', 4),\n             ('lần', 3),\n             ('mòn', 1),\n             ('mỏi', 2),\n             ('băng', 1),\n             ('ghế', 2),\n             ('dự', 2),\n             ('chói', 1),\n             ('sáng', 6),\n             ('sea', 1),\n             ('games', 1),\n             ('tinh', 2),\n             ('thần', 1),\n             ('phong', 5),\n             ('phú', 2),\n             ('vững', 1),\n             ('chuẩn', 2),\n             ('mực', 1),\n             ('xã', 2),\n             ('kiên', 2),\n             ('tranh', 4),\n             ('chống', 1),\n             ('tệ', 1),\n             ('nạn', 1),\n             ('kyoto', 1),\n             ('nữ', 6),\n             ('đảo', 2),\n             ('dịp', 1),\n             ('đươc', 1),\n             ('mặc', 2),\n             ('kimono', 1),\n             ('lễ', 1),\n             ('chốc', 2),\n             ('mép', 2),\n             ('bôi', 1),\n             ('vào', 17),\n             ('7', 2),\n             ('thật', 1),\n             ('nội', 5),\n             ('dung', 2),\n             ('chương', 1),\n             ('live', 1),\n             ('show', 1),\n             ('gì', 6),\n             ('cố', 1),\n             ('sở', 2),\n             ('tin', 4),\n             ('rằng', 4),\n             ('mang', 6),\n             ('nhạy', 1),\n             ('cảm', 2),\n             ('giản', 1),\n             ('ứng', 1),\n             ('nhanh', 1),\n             ('alan', 1),\n             ('castel', 1),\n             ('trưởng', 2),\n             ('nhóm', 1),\n             ('nghiên', 1),\n             ('cứu', 1),\n             ('đá', 4),\n             ('quân', 2),\n             ('đội', 6),\n             ('asean', 1),\n             ('khai', 1),\n             ('mạc', 1),\n             ('20', 1),\n             ('11', 1),\n             ('loạt', 2),\n             ('địa', 1),\n             ('khu', 3),\n             ('tp', 1),\n             ('hcm', 1),\n             ('bảng', 2),\n             ('trọng', 4),\n             ('khả', 1),\n             ('năng', 2),\n             ('chủ', 5),\n             ('khăn', 2),\n             ('ướt', 1),\n             ('lau', 1),\n             ('lượt', 1),\n             ('cất', 1),\n             ('tủ', 2),\n             ('lạnh', 2),\n             ('kẻ', 2),\n             ('viền', 1),\n             ('mắt', 7),\n             ('bằng', 3),\n             ('chì', 1),\n             ('đen', 2),\n             ('đuôi', 1),\n             ('dưới', 4),\n             ('tán', 2),\n             ('chút', 2),\n             ('bột', 2),\n             ('nâu', 1),\n             ('dài', 3),\n             ('ánh', 4),\n             ('sâu', 2),\n             ('đúng', 1),\n             ('quả', 1),\n             ('tăng', 4),\n             ('rất', 6),\n             ('chanh', 2),\n             ('đắp', 2),\n             ('miếng', 1),\n             ('vắt', 1),\n             ('khuỷu', 1),\n             ('cá', 3),\n             ('chân', 5),\n             ('gót', 1),\n             ('mềm', 3),\n             ('mảng', 1),\n             ('thô', 1),\n             ('chai', 1),\n             ('sần', 1),\n             ('sạch', 3),\n             ('cúc', 2),\n             ('cánh', 2),\n             ('dịu', 2),\n             ('căng', 2),\n             ('thẳng', 4),\n             ('mệt', 1),\n             ('vừa', 4),\n             ('ngồi', 1),\n             ('ngả', 1),\n             ('lưng', 1),\n             ('giãn', 1),\n             ('gối', 1),\n             ('yisha', 1),\n             ('zhang', 1),\n             ('21', 1),\n             ('tuổi', 3),\n             ('truyền', 2),\n             ('thậm', 2),\n             ('chí', 2),\n             ('dân', 3),\n             ('vùng', 1),\n             ('tòa', 1),\n             ('tháp', 2),\n             ('rễ', 1),\n             ('gạch', 1),\n             ('hút', 1),\n             ('khí', 2),\n             ('lòng', 1),\n             ('đất', 4),\n             ('mẹ', 1),\n             ('nuôi', 2),\n             ('thân', 3),\n             ('50', 1),\n             ('lui', 1),\n             ('tới', 3),\n             ('tennis', 1),\n             ('tân', 1),\n             ('bình', 4),\n             ('bà', 1),\n             ('ngân', 2),\n             ('ly', 1),\n             ('hôn', 1),\n             ('ludovic', 1),\n             ('giuly', 2),\n             ('dù', 2),\n             ('lưới', 4),\n             ('duyên', 1),\n             ('mùa', 2),\n             ('khoác', 1),\n             ('áo', 1),\n             ('monaco', 1),\n             ('từng', 1),\n             ('sút', 2),\n             ('thủng', 1),\n             ('deportivo', 1),\n             ('8', 2),\n             ('3', 2),\n             ('vòng', 1),\n             ('champions', 1),\n             ('league', 1),\n             ('độ', 1),\n             ('chàng', 1),\n             ('trai', 1),\n             ('góp', 1),\n             ('chiến', 1),\n             ('barca', 1),\n             ('tuyệt', 1),\n             ('chơi', 2),\n             ('chung', 1),\n             ('sức', 2),\n             ('hai', 4),\n             ('vợ', 2),\n             ('chồng', 1),\n             ('xem', 1),\n             ('cái', 3),\n             ('14', 2),\n             ('răn', 1),\n             ('phật', 1),\n             ('đàn', 2),\n             ('vịt', 2),\n             ('săn', 1),\n             ('bắn', 1),\n             ('ta', 3),\n             ('ngô', 2),\n             ('lúa', 1),\n             ('mạch', 2),\n             ('bờ', 1),\n             ('hồ', 1),\n             ('tối', 4),\n             ('ôn', 1),\n             ('thuộc', 1),\n             ('sàng', 1),\n             ('lọc', 1),\n             ('tác', 3),\n             ('chứ', 2),\n             ('tuột', 1),\n             ('ruột', 1),\n             ('ngựa', 1),\n             ('nghĩa', 3),\n             ('thành', 3),\n             ('mình', 11),\n             ('vách', 1),\n             ('khoáng', 1),\n             ('chất', 1),\n             ('khác', 7),\n             ('nắng', 2),\n             ('mặt', 1),\n             ('trời', 1),\n             ('sắc', 2),\n             ('niềm', 1),\n             ('vui', 1),\n             ('ấy', 2),\n             ('kéo', 2),\n             ('đầy', 1),\n             ('15', 1),\n             ('bất', 3),\n             ('cứ', 3),\n             ('thức', 4),\n             ('bữa', 2),\n             ('hiệp', 2),\n             ('vận', 1),\n             ('tế', 1),\n             ('iata', 1),\n             ('cảnh', 1),\n             ('giá', 2),\n             ('dầu', 1),\n             ('khiến', 3),\n             ('hãng', 2),\n             ('thế', 7),\n             ('thiệt', 1),\n             ('hại', 1),\n             ('khoảng', 4),\n             ('ổn', 1),\n             ('vệ', 2),\n             ('dusit', 1),\n             ('chệch', 1),\n             ('cột', 1),\n             ('dọc', 1),\n             ('huống', 1),\n             ('phạt', 1),\n             ('con', 3),\n             ('ngủ', 1),\n             ('yên', 1),\n             ('sớm', 2),\n             ('lúc', 3),\n             ('quá', 2),\n             ('tủi', 1),\n             ('cực', 3),\n             ('nhọc', 1),\n             ('giác', 2),\n             ('áy', 1),\n             ('náy', 1),\n             ('chăm', 2),\n             ('sóc', 3),\n             ('mãi', 1),\n             ('sáu', 1),\n             ('tháng', 3),\n             ('mới', 3),\n             ('mai', 1),\n             ('bếp', 1),\n             ('vợt', 1),\n             ('hương', 1),\n             ('justine', 1),\n             ('henin', 1),\n             ('207', 1),\n             ('biến', 1),\n             ('lây', 1),\n             ('lan', 1),\n             ('nâng', 2),\n             ('mức', 2),\n             ('phiên', 1),\n             ('bản', 4),\n             ('netsky', 1),\n             ('ag', 1),\n             ('brazil', 1),\n             ('argentina', 1),\n             ('song', 1),\n             ('chuyên', 2),\n             ('virus', 2),\n             ('nhờ', 3),\n             ('diện', 1),\n             ('luôn', 3),\n             ('nhắc', 1),\n             ('nhở', 1),\n             ('lãng', 1),\n             ('quên', 2),\n             ('hữu', 3),\n             ('hạn', 1),\n             ('trở', 2),\n             ('tử', 2),\n             ('niệm', 1),\n             ('phạm', 1),\n             ('tuấn', 2),\n             ('hình', 6),\n             ('tưởng', 1),\n             ('dắt', 1),\n             ('sản', 2),\n             ('tớ', 1),\n             ('80', 1),\n             ('phim', 3),\n             ('đợt', 1),\n             ('lãi', 2),\n             ('suất', 2),\n             ('fed', 1),\n             ('ngỏ', 1),\n             ('tục', 1),\n             ('fpt', 1),\n             ('quản', 1),\n             ('sách', 1),\n             ('kho', 2),\n             ('bạc', 2),\n             ('nghĩ', 3),\n             ('hồi', 1),\n             ('đức', 1),\n             ('khá', 4),\n             ('bán', 1),\n             ('bánh', 1),\n             ('mỳ', 1),\n             ('pizza', 1),\n             ('pho', 1),\n             ('mát', 1),\n             ('bồi', 1),\n             ('quét', 1),\n             ('dọn', 1),\n             ('toilet', 1),\n             ('160', 1),\n             ('kỷ', 2),\n             ('dừng', 1),\n             ('cuối', 1),\n             ('kèm', 1),\n             ('cốc', 1),\n             ('kolsch', 1),\n             ('tù', 1),\n             ('đường', 2),\n             ('cô', 2),\n             ('khởi', 1),\n             ('đài', 1),\n             ('los', 1),\n             ('angeles', 1),\n             ('zoya', 1),\n             ('cắm', 1),\n             ('điện', 2),\n             ('sạc', 1),\n             ('pda', 1),\n             ('thoại', 1),\n             ('ô', 1),\n             ('tô', 2),\n             ('60', 1),\n             ('giây', 1),\n             ('key', 1),\n             ('chain', 1),\n             ('thay', 2),\n             ('chuỗi', 1),\n             ('ẩn', 1),\n             ('hiểu', 1),\n             ('đích', 1),\n             ('vụ', 2),\n             ('chọn', 4),\n             ('lựa', 1),\n             ('phù', 5),\n             ('hợp', 5),\n             ('giọng', 1),\n             ('đụng', 1),\n             ('nguyễn', 1),\n             ('cường', 2),\n             ('mệnh', 1),\n             ('chạy', 1),\n             ('trốn', 1),\n             ('tìm', 1),\n             ('mô', 1),\n             ('điển', 1),\n             ('ích', 1),\n             ('thanh', 1),\n             ('niên', 2),\n             ('lẩu', 1),\n             ('nhãn', 1),\n             ('nhật', 1),\n             ('đông', 1),\n             ('á', 2),\n             ('hầu', 1),\n             ('nhìn', 1),\n             ('lịch', 1),\n             ('châu', 1),\n             ('thái', 1),\n             ('dương', 1),\n             ('khủng', 1),\n             ('hoảng', 1),\n             ('ngóng', 1),\n             ('hs', 1),\n             ('khối', 1),\n             ('9', 1),\n             ('vất', 1),\n             ('vả', 1),\n             ('panasonic', 1),\n             ('khó', 3),\n             ('cạnh', 2),\n             ('thị', 1),\n             ('đtdđ', 1),\n             ('thấp', 1),\n             ('dĩ', 1),\n             ('kỳ', 3),\n             ('lương', 1),\n             ('đô', 1),\n             ('nga', 1),\n             ('242', 1),\n             ('biện', 1),\n             ('áp', 1),\n             ('lực', 1),\n             ('nơm', 1),\n             ('nớp', 1),\n             ('sợ', 1),\n             ('em', 3),\n             ('kiều', 1),\n             ('loan', 1),\n             ('củ', 3),\n             ('sen', 1),\n             ('nêm', 1),\n             ('háo', 1),\n             ('thất', 2),\n             ('bại', 1),\n             ('đuổi', 1),\n             ('ảo', 2),\n             ('thuật', 2),\n             ('nhuyễn', 2),\n             ('chẳng', 1),\n             ('giã', 1),\n             ('quê', 1),\n             ('làng', 1),\n             ('chài', 1),\n             ('nghèo', 1),\n             ('phố', 1),\n             ('bươn', 1),\n             ('chải', 1),\n             ('tránh', 1),\n             ('đứng', 3),\n             ('mua', 1),\n             ('nhẹ', 1),\n             ('nhạt', 1),\n             ('co', 2),\n             ('cà', 1),\n             ('mau', 1),\n             ('liêu', 1),\n             ('trăng', 1),\n             ('giăng', 1),\n             ('rô', 1),\n             ('gọt', 1),\n             ('lớp', 1),\n             ('vỏ', 1),\n             ('nồi', 2),\n             ('muối', 1),\n             ('hột', 2),\n             ('ngọt', 1),\n             ('vài', 2),\n             ('lạt', 1),\n             ('đậy', 1),\n             ('nắp', 1),\n             ('lửa', 1),\n             ('riu', 2),\n             ('lão', 1),\n             ('nếp', 1),\n             ('nhăn', 1),\n             ('sửa', 1),\n             ('chữa', 1),\n             ('thiết', 2),\n             ('căn', 2),\n             ('hộ', 2),\n             ('hư', 1),\n             ('hỏng', 1),\n             ('thấm', 1),\n             ('dột', 1),\n             ('kế', 1),\n             ('án', 1),\n             ('yêu', 1),\n             ('khỏe', 1),\n             ('dám', 1),\n             ('bỏ', 1),\n             ('chục', 1),\n             ('phẩm', 1),\n             ('kiến', 1),\n             ('thỏa', 1),\n             ('tivi', 2),\n             ('âm', 1),\n             ('nới', 1),\n             ('salon', 1),\n             ('trần', 1),\n             ('tầng', 2),\n             ('huỳnh', 1),\n             ('kí', 1),\n             ('lê', 1),\n             ('bé', 1),\n             ('lấy', 1),\n             ('toefl', 1),\n             ('đạt', 1),\n             ('hát', 1),\n             ('mãnh', 1),\n             ('liệt', 1),\n             ('si', 1),\n             ('nhung', 1),\n             ('gđt', 1),\n             ('tài', 3),\n             ('thứ', 1),\n             ('chấm', 1),\n             ('dứt', 1),\n             ('tuyên', 1),\n             ('bố', 1),\n             ('sitc', 1),\n             ('thâm', 3),\n             ('bước', 1),\n             ('chỗ', 1),\n             ('snow', 1),\n             ('hụt', 2),\n             ('khoản', 2),\n             ('vãng', 1),\n             ('lai', 1),\n             ('bù', 1),\n             ('mất', 1),\n             ...])"
     },
     "execution_count": 3,
     "metadata": {},
     "output_type": "execute_result"
    }
   ],
   "source": [
    "word_level_tokenizer.fit_on_texts(correct_texts)\n",
    "word_level_tokenizer.word_counts"
   ],
   "metadata": {
    "collapsed": false,
    "ExecuteTime": {
     "end_time": "2024-03-31T11:15:53.613401Z",
     "start_time": "2024-03-31T11:15:53.565055Z"
    }
   },
   "id": "da68b19fddda92a7",
   "execution_count": 3
  },
  {
   "cell_type": "code",
   "outputs": [
    {
     "data": {
      "text/plain": "OrderedDict([('n', 1237),\n             ('c', 618),\n             ('u', 295),\n             ('l', 184),\n             ('à', 204),\n             ('m', 253),\n             ('y', 162),\n             ('s', 171),\n             ('đ', 256),\n             ('ư', 133),\n             ('ợ', 32),\n             (' ', 2765),\n             ('h', 955),\n             ('v', 192),\n             ('ậ', 39),\n             ('t', 697),\n             ('ì', 51),\n             ('ắ', 35),\n             ('e', 71),\n             ('k', 152),\n             ('ô', 82),\n             ('f', 15),\n             ('g', 565),\n             ('ò', 27),\n             ('r', 192),\n             ('b', 126),\n             ('ờ', 49),\n             ('o', 252),\n             ('ù', 21),\n             ('i', 602),\n             ('ệ', 70),\n             ('ề', 54),\n             ('a', 350),\n             ('â', 51),\n             ('ự', 44),\n             ('ủ', 63),\n             ('p', 169),\n             ('ụ', 25),\n             ('ó', 90),\n             ('ầ', 39),\n             ('ọ', 40),\n             ('ê', 69),\n             ('ạ', 88),\n             ('á', 139),\n             ('d', 104),\n             ('ớ', 74),\n             ('ẫ', 9),\n             ('ữ', 45),\n             ('ấ', 63),\n             ('í', 34),\n             ('q', 58),\n             ('ỉ', 15),\n             ('ế', 79),\n             ('ơ', 41),\n             ('õ', 2),\n             ('ả', 58),\n             ('ể', 51),\n             ('ồ', 24),\n             ('é', 9),\n             ('ố', 59),\n             ('ặ', 16),\n             ('ử', 8),\n             ('ở', 34),\n             ('ú', 32),\n             ('8', 4),\n             ('5', 7),\n             (',', 10),\n             ('w', 16),\n             ('z', 10),\n             ('ỷ', 4),\n             ('ỹ', 4),\n             ('6', 9),\n             (':', 1),\n             ('1', 20),\n             ('ừ', 14),\n             ('ũ', 16),\n             ('ý', 12),\n             ('ị', 34),\n             ('ẽ', 11),\n             ('ộ', 81),\n             ('x', 32),\n             ('-', 6),\n             ('ỗ', 7),\n             ('2', 13),\n             ('4', 6),\n             ('7', 5),\n             ('3', 3),\n             ('ă', 37),\n             ('0', 19),\n             ('ã', 36),\n             ('ĩ', 10),\n             ('ứ', 28),\n             ('ỳ', 7),\n             ('ổ', 27),\n             ('j', 8),\n             ('ễ', 9),\n             ('ẻ', 8),\n             ('.', 4),\n             ('/', 3),\n             ('ẹ', 4),\n             ('ẳ', 6),\n             ('ỏ', 9),\n             ('ẩ', 6),\n             ('ằ', 9),\n             ('(', 6),\n             (')', 6),\n             ('ẵ', 2),\n             ('è', 3),\n             ('9', 1),\n             ('ỡ', 1)])"
     },
     "execution_count": 4,
     "metadata": {},
     "output_type": "execute_result"
    }
   ],
   "source": [
    "character_level_tokenizer.fit_on_texts(error_texts)\n",
    "character_level_tokenizer.word_counts"
   ],
   "metadata": {
    "collapsed": false,
    "ExecuteTime": {
     "end_time": "2024-03-31T11:15:53.627262Z",
     "start_time": "2024-03-31T11:15:53.615029Z"
    }
   },
   "id": "d62288e440a2dd0b",
   "execution_count": 4
  },
  {
   "cell_type": "code",
   "outputs": [
    {
     "data": {
      "text/plain": "OrderedDict([('nculàmysđược', 1),\n             ('như', 9),\n             ('vậy', 3),\n             ('thì', 4),\n             ('chắc', 1),\n             ('chắn', 1),\n             ('se', 2),\n             ('khôfng', 1),\n             ('còn', 10),\n             ('trbường', 1),\n             ('nào', 4),\n             ('tùy', 1),\n             ('tiện', 3),\n             ('thu', 2),\n             ('tiền', 6),\n             ('cao', 4),\n             ('gây', 3),\n             ('sự', 11),\n             ('lo', 2),\n             ('lắng', 1),\n             ('của', 36),\n             ('phụ', 6),\n             ('huynh', 1),\n             ('và', 32),\n             ('ai', 1),\n             ('không', 26),\n             ('có', 27),\n             ('cần', 4),\n             ('đóng', 2),\n             ('mọi', 2),\n             ('liên', 2),\n             ('lạc', 1),\n             ('báo', 5),\n             ('cáo', 2),\n             ('phê', 1),\n             ('duyệt', 2),\n             ('hướng', 1),\n             ('dẫn', 3),\n             ('giữa', 1),\n             ('cnc', 1),\n             ('cấp', 2),\n             ('chính', 5),\n             ('quyền', 2),\n             ('trong', 27),\n             ('tỉnh', 2),\n             ('đều', 2),\n             ('được', 16),\n             ('thực', 7),\n             ('hiện', 8),\n             ('điều', 4),\n             ('hành', 6),\n             ('trực', 3),\n             ('tuyến', 1),\n             ('thông', 4),\n             ('qua', 5),\n             ('các', 23),\n             ('ocơ', 1),\n             ('chế', 1),\n             ('rõ', 2),\n             ('ràng', 1),\n             ('nhất', 8),\n             ('quán', 3),\n             ('với', 20),\n             ('tất', 3),\n             ('cả', 4),\n             ('nhân', 1),\n             ('viqên', 1),\n             ('giải', 5),\n             ('quyết', 3),\n             ('triệt', 1),\n             ('để', 16),\n             ('nhữngtồn', 1),\n             ('đọng', 1),\n             ('yếu', 4),\n             ('kém', 1),\n             ('mà', 7),\n             ('hệ', 2),\n             ('thống', 2),\n             ('nặng', 2),\n             ('kvề', 1),\n             ('sử', 2),\n             ('dụng', 4),\n             ('giấy', 1),\n             ('tờ', 1),\n             ('trướcy', 1),\n             ('kia', 1),\n             ('tạo', 3),\n             ('ra', 13),\n             ('bàn', 3),\n             ('thắng', 4),\n             ('duy', 1),\n             ('trận', 2),\n             ('đấu', 2),\n             ('ghì', 1),\n             ('ở', 16),\n             ('phút', 3),\n             ('85', 1),\n             ('do', 2),\n             ('cwông', 1),\n             ('củn', 1),\n             ('đạz', 1),\n             ('manit', 1),\n             ('minh', 3),\n             ('hải', 1),\n             ('tỷ', 2),\n             ('lệ', 1),\n             ('nhà', 8),\n             ('hànn', 1),\n             ('trung', 6),\n             ('hoa', 4),\n             ('so', 2),\n             ('nht', 1),\n             ('hàng', 6),\n             ('việt', 4),\n             ('nam', 6),\n             ('mỹ', 4),\n             ('ítvnhất', 1),\n             ('là', 28),\n             ('6', 3),\n             ('1', 5),\n             ('trừ', 2),\n             ('quận', 2),\n             ('cam', 1),\n             ('california', 1),\n             ('vốn', 3),\n             ('nơi', 5),\n             ('chợ', 1),\n             ('nói', 8),\n             ('tiếng', 2),\n             ('anh', 7),\n             ('chỉ', 11),\n             ('cũng', 11),\n             ('đủ', 3),\n             ('tuy', 4),\n             ('nhiên', 2),\n             ('chu', 1),\n             ('ý', 8),\n             ('ln', 1),\n             ('nếu', 2),\n             ('bên', 4),\n             ('tướng', 1),\n             ('chết', 2),\n             ('hoặc', 3),\n             ('bị', 8),\n             ('bắt', 5),\n             ('sống', 4),\n             ('sẽ', 10),\n             ('ptự', 1),\n             ('động', 7),\n             ('thuatrận', 1),\n             ('xây', 1),\n             ('dựng', 1),\n             ('khi', 13),\n             ('hoàn', 3),\n             ('ciông', 1),\n             ('trình', 2),\n             ('việc', 8),\n             ('bài', 3),\n             ('drí', 1),\n             ('sắpđặt', 1),\n             ('đồ', 1),\n             ('dund', 1),\n             ('thường', 4),\n             ('lộw', 1),\n             ('những', 21),\n             ('góc', 1),\n             ('đó', 17),\n             ('qnhiều', 1),\n             ('đa', 5),\n             ('dạng', 2),\n             ('hồng', 3),\n             ('16màu', 1),\n             ('hưởng', 2),\n             ('hết', 3),\n             ('máy', 4),\n             ('tímh', 1),\n             ('xáct', 1),\n             ('aay', 1),\n             ('bạn', 6),\n             ('truy', 2),\n             ('cập', 2),\n             ('internet', 1),\n             ('tại', 6),\n             ('điểm', 5),\n             ('hot', 1),\n             ('spot', 1),\n             ('wi', 1),\n             ('mfi', 1),\n             ('sân', 5),\n             ('bay', 4),\n             ('phòng', 4),\n             ('họp', 2),\n             ('khách', 5),\n             ('sạn', 2),\n             ('nhiều', 12),\n             ('mẫur', 1),\n             ('laptop', 1),\n             ('gần', 3),\n             ('đây', 4),\n             ('trang', 4),\n             ('bộ', 1),\n             ('vi', 2),\n             ('xử', 1),\n             ('lý', 3),\n             ('gqn', 1),\n             ('hỗ', 1),\n             ('trợ', 1),\n             ('cho', 29),\n             ('ket', 1),\n             ('nối', 2),\n             ('dây', 1),\n             ('chip', 1),\n             ('opteroni152', 1),\n             ('chỉcòn417', 1),\n             ('ựsd', 1),\n             ('637', 1),\n             ('usd', 4),\n             ('truoc', 1),\n             ('trước', 8),\n             ('cuộc', 3),\n             ('thihoahậu', 1),\n             ('gtoan', 1),\n             ('quốc', 5),\n             ('năm', 6),\n             ('2004', 1),\n             ('đầu', 7),\n             ('chị', 3),\n             ('đã', 16),\n             ('trò', 4),\n             ('chuyện', 3),\n             ('về', 5),\n             ('vinh', 1),\n             ('quang', 2),\n             ('chiếc', 2),\n             ('vfơng', 1),\n             ('miện', 1),\n             ('này', 16),\n             ('kiaf', 1),\n             ('tiếp', 5),\n             ('viên', 2),\n             ('vì', 8),\n             ('sao', 2),\n             ('sau', 12),\n             ('đăng', 3),\n             ('li', 1),\n             ('chuyển', 2),\n             ('sang', 3),\n             ('lĩnh', 1),\n             ('vc', 1),\n             ('thời', 6),\n             ('tố', 2),\n             ('tâm', 3),\n             ('ảnhhưởng', 1),\n             ('đến', 12),\n             ('tình', 4),\n             ('trạng', 2),\n             ('da', 5),\n             ('tham', 4),\n             ('vấn', 4),\n             ('ttếp', 1),\n             ('giám', 3),\n             ('đốc', 3),\n             ('tuyển', 4),\n             ('sinh', 8),\n             ('trườbng', 1),\n             ('shms', 1),\n             ('một', 30),\n             ('số', 5),\n             ('đại', 1),\n             ('sứ', 1),\n             ('qmuốn', 1),\n             ('đặt', 1),\n             ('apec', 2),\n             ('nhưng', 10),\n             ('san', 1),\n             ('nhận', 6),\n             ('ôngnquỳnh', 1),\n             ('kể', 2),\n             ('theo', 6),\n             ('vị', 4),\n             ('nàyv', 1),\n             ('kiện', 1),\n             ('lớn', 3),\n             ('phản', 2),\n             ('đối', 4),\n             ('cuyện', 1),\n             ('phân', 1),\n             ('bổ', 1),\n             ('nó', 6),\n             ('quan', 5),\n             ('an', 3),\n             ('niunh', 1),\n             ('chặng', 1),\n             ('di', 2),\n             ('củacácnguyên', 1),\n             ('thủ', 2),\n             ('gia', 8),\n             ('loại', 6),\n             ('giay', 1),\n             ('ờ', 1),\n             ('bây', 1),\n             ('giờ', 1),\n             ('chưa', 3),\n             ('tên', 3),\n             ('gọic', 1),\n             ('jthể', 1),\n             ('trái', 4),\n             ('phiếu', 2),\n             ('tổng', 3),\n             ('vcbvũyiết', 1),\n             ('ngoạn', 2),\n             ('trao', 1),\n             ('đổi', 3),\n             ('vnexpress', 1),\n             ('ông', 8),\n             ('biết', 4),\n             ('thêm', 1),\n             ('phủ', 2),\n             ('đạo', 2),\n             ('2006', 1),\n             ('phải', 6),\n             ('phát', 4),\n             ('cổ', 5),\n             ('phổ', 1),\n             ('họ', 4),\n             ('thích', 3),\n             ('cách', 5),\n             ('dễ', 2),\n             ('dàng', 1),\n             ('hứng', 1),\n             ('thú', 1),\n             ('cua', 1),\n             ('bọn', 2),\n             ('trẻ', 3),\n             ('giới', 5),\n             ('tính', 7),\n             ('lậpr', 1),\n             ('dấu', 1),\n             ('hiệu', 4),\n             ('chứng', 2),\n             ('tmình', 1),\n             ('dục', 1),\n             ('đồng', 5),\n             ('kuyến', 1),\n             ('ái', 1),\n             ('a', 1),\n             ('hùnig', 1),\n             ('hả', 1),\n             ('đang', 5),\n             ('uống', 2),\n             ('biaa', 1),\n             ('cùng', 4),\n             ('mạnh', 2),\n             ('hà', 2),\n             ('alô', 1),\n             ('dũngà', 1),\n             ('bảo', 2),\n             ('ngay', 2),\n             ('qgiờ', 1),\n             ('vẫn', 2),\n             ('thấy', 4),\n             ('đâu', 1),\n             ('tao', 1),\n             ('say', 1),\n             ('rồi', 3),\n             ('đzn', 1),\n             ('lại', 8),\n             ('toàn', 4),\n             ('thể', 12),\n             ('đảm', 2),\n             ('đương', 2),\n             ('tư', 2),\n             ('phần', 6),\n             ('hóa', 4),\n             ('doanh', 5),\n             ('nghiệp', 4),\n             ('đề', 3),\n             ('gian', 3),\n             ('cápc', 1),\n             ('òn', 1),\n             ('hay', 2),\n             ('hùng', 1),\n             ('nămnnay', 1),\n             ('mục', 3),\n             ('tiêu', 4),\n             ('trên', 8),\n             ('000', 1),\n             ('fnghiệp', 1),\n             ('đóhiệxn', 1),\n             ('nước', 4),\n             ('wđã', 1),\n             ('tiến', 2),\n             ('hànhđược', 1),\n             ('hơn', 9),\n             ('400', 1),\n             ('đơn', 3),\n             ('tfại', 1),\n             ('buổi', 3),\n             ('hội', 6),\n             ('thảo', 1),\n             ('5', 1),\n             ('học', 10),\n             ('ky', 2),\n             ('tiên', 2),\n             ('mỗi', 3),\n             ('người', 13),\n             ('vé', 1),\n             ('chiều', 2),\n             ('đi', 2),\n             ('singapore', 1),\n             ('vay', 1),\n             ('bắtđầu', 1),\n             ('từ', 5),\n             ('ngày', 4),\n             ('10', 4),\n             ('nghiệm', 3),\n             ('2', 5),\n             ('tuần', 2),\n             ('rút', 1),\n             ('kinh', 5),\n             ('kem', 1),\n             ('phấn', 2),\n             ('nền', 1),\n             ('giúp', 4),\n             ('trả', 1),\n             ('vẻ', 2),\n             ('đẹptựnhiên', 1),\n             ('quyen', 1),\n             ('rũ', 1),\n             ('làn', 1),\n             ('dacủa', 1),\n             ('rana', 1),\n             ('kẳng', 1),\n             ('định', 6),\n             ('eu', 3),\n             ('kixn', 1),\n             ('tụng', 1),\n             ('lên', 6),\n             ('wto', 3),\n             ('quy', 1),\n             ('tắc', 1),\n             ('tổ', 2),\n             ('chức', 3),\n             ('khuyến', 1),\n             ('nên', 8),\n             ('phương', 4),\n             ('đưa', 2),\n             ('bởi', 2),\n             ('đómcó', 1),\n             ('ghể', 1),\n             ('ảnh', 1),\n             ('hoạt', 5),\n             ('đyng', 1),\n             ('thương', 2),\n             ('mại', 2),\n             ('cầuvà', 1),\n             ('uy', 1),\n             ('tín', 1),\n             ('foxrum', 1),\n             ('online', 1),\n             ('đời', 2),\n             ('làm', 17),\n             ('cầu', 3),\n             ('du', 3),\n             ('vn', 1),\n             ('ởdpjáp', 1),\n             ('nhau', 5),\n             ('chia', 4),\n             ('sẻ', 2),\n             ('hởc', 1),\n             ('tập', 2),\n             ('ăn', 4),\n             ('svvn', 1),\n             ('pháp', 2),\n             ('giang', 1),\n             ('giữ', 3),\n             ('vai', 2),\n             ('trư', 1),\n             ('ký', 1),\n             ('xăng', 1),\n             ('xái', 1),\n             ('nhịp', 1),\n             ('gvgới', 1),\n             ('lập', 1),\n             ('đình', 2),\n             ('hojt', 1),\n             ('nghề', 2),\n             ('hcủa', 1),\n             ('tôi', 13),\n             ('triển', 2),\n             ('thuậnlợihơn', 1),\n             ('ngoài', 1),\n             ('xviệc', 1),\n             ('diễn', 2),\n             ('sàn', 2),\n             ('coị', 1),\n             ('giảng', 1),\n             ('dạy', 1),\n             ('mẫu', 2),\n             ('đặc', 2),\n             ('biệtnhữngtrnh', 1),\n             ('khúc', 1),\n             ('văln', 1),\n             ('phụng', 1),\n             ('đềuxuất', 1),\n             ('ca', 3),\n             ('sĩ', 2),\n             ('vang', 1),\n             ('bapng', 1),\n             ('chúng', 5),\n             ('tt', 1),\n             ('la', 2),\n             ('khôjg', 1),\n             ('mạo', 1),\n             ('hiểm', 1),\n             ('nữa', 1),\n             ('xác', 1),\n             ('phip', 1),\n             ('mở', 1),\n             ('rlộng', 1),\n             ('lầm', 1),\n             ('qufến', 1),\n             ('cung', 1),\n             ('đãphải', 1),\n             ('mòn', 1),\n             ('mỏigtrên', 1),\n             ('băng', 1),\n             ('ghế', 2),\n             ('dự', 2),\n             ('trưeớc', 1),\n             ('chói', 1),\n             ('sáng', 5),\n             ('sea', 1),\n             ('games', 1),\n             ('tinh', 2),\n             ('thần', 1),\n             ('phong', 5),\n             ('phú', 2),\n             ('vững', 1),\n             ('chuẩn', 2),\n             ('muc', 1),\n             ('xã', 2),\n             ('kiên', 2),\n             ('tranh', 5),\n             ('chốngtệnạn', 1),\n             ('knoto', 1),\n             ('nữ', 5),\n             ('đảo', 1),\n             ('ít', 4),\n             ('dịpđươcmặc', 1),\n             ('kimnno', 1),\n             ('lễ', 1),\n             ('đặyc', 1),\n             ('biệt', 2),\n             ('chốc', 1),\n             ('mép', 2),\n             ('bôi', 1),\n             ('vào', 13),\n             ('chốt', 1),\n             ('lần', 2),\n             ('7', 2),\n             ('thật', 1),\n             ('nội', 4),\n             ('dung', 2),\n             ('chương', 1),\n             ('live', 1),\n             ('show', 1),\n             ('de', 1),\n             ('gì', 5),\n             ('cố', 1),\n             ('sở', 1),\n             ('vănhóa', 1),\n             ('tin', 4),\n             ('rằngm', 1),\n             ('vấe', 1),\n             ('mang', 5),\n             ('nhạy', 1),\n             ('cảm', 2),\n             ('giản', 1),\n             ('ứng', 1),\n             ('nhanw', 1),\n             ('alan', 1),\n             ('castel', 1),\n             ('trưởng', 2),\n             ('nhóm', 1),\n             ('nghiên', 1),\n             ('cứu', 1),\n             ('bóng', 2),\n             ('đá', 4),\n             ('quân', 2),\n             ('đội', 6),\n             ('asean', 1),\n             ('nay', 4),\n             ('khai', 1),\n             ('mạc', 1),\n             ('20', 1),\n             ('11', 1),\n             ('loạt', 1),\n             ('địa', 1),\n             ('khu', 1),\n             ('tp', 1),\n             ('hcm', 1),\n             ('bảng', 2),\n             ('qzcn', 1),\n             ('trọng', 3),\n             ('nguoi', 1),\n             ('tự', 4),\n             ('khả', 1),\n             ('năng', 2),\n             ('chủ', 4),\n             ('dùng', 2),\n             ('khăn', 2),\n             ('ướt', 1),\n             ('lau', 1),\n             ('luozt', 1),\n             ('cất', 1),\n             ('trongtủ', 1),\n             ('lạnh', 2),\n             ('kd', 1),\n             ('viền', 1),\n             ('mắt', 7),\n             ('bằng', 3),\n             ('chì', 1),\n             ('đen', 2),\n             ('đuôi', 1),\n             ('dưới', 4),\n             ('tan', 1),\n             ('chút', 2),\n             ('bột', 2),\n             ('nâu', 1),\n             ('dài', 1),\n             ('ánh', 3),\n             ('sâu', 2),\n             ('sửdụng', 1),\n             ('đúng', 1),\n             ('quả', 1),\n             ('tăng', 3),\n             ('rất', 6),\n             ('chanhđắp', 1),\n             ('miếng', 1),\n             ('chanh', 1),\n             ('vắtnước', 1),\n             ('khuỷu', 1),\n             ('tay', 7),\n             ('cá', 3),\n             ('chân', 5),\n             ('gót', 1),\n             ('mềm', 3),\n             ('mảng', 1),\n             ('thô', 1),\n             ('chai', 2),\n             ('sặn', 1),\n             ('sạch', 3),\n             ('ahết', 1),\n             ('cú', 1),\n             ('cánh', 2),\n             ('cúc', 1),\n             ('làv', 1),\n             ('dịu', 2),\n             ('căng', 2),\n             ('thẳng', 1),\n             ('mt', 1),\n             ('mỏi', 1),\n             ('vừa', 4),\n             ('ngoi', 1),\n             ('ngả', 1),\n             ('leưng', 1),\n             ('thư', 1),\n             ('giãn', 1),\n             ('c', 1),\n             ('làp', 1),\n             ('gối', 1),\n             ('ngườik', 1),\n             ('kó', 1),\n             ('yixhae', 1),\n             ('zhang', 1),\n             ('21', 1),\n             ('tuổi', 3),\n             ('tốh', 1),\n             ('làmsốnglạie', 1),\n             ('truyền', 1),\n             ('thốnsg', 1),\n             ('thậm', 2),\n             ('chí', 2),\n             ('ngyời', 1),\n             ('dânqyùng', 1),\n             ('rằng', 2),\n             ('nhữing', 1),\n             ('tòa', 1),\n             ('thiáp', 1),\n             ('bộgrễ', 1),\n             ('gạch', 1),\n             ('hút', 1),\n             ('trqng', 1),\n             ('lòkg', 1),\n             ('đất', 4),\n             ('mẹ', 1),\n             ('nuôi', 2),\n             ('thân', 3),\n             ('tháp', 1),\n             ('nhữngr', 1),\n             ('50', 1),\n             ('lui', 1),\n             ('tớiv', 1),\n             ('tennis', 1),\n             ('kha', 2),\n             ('vực', 2),\n             ('tân', 1),\n             ('bình', 3),\n             ('bà', 1),\n             ('ngân', 2),\n             ('ly', 1),\n             ('hôn', 1),\n             ('ludovic', 1),\n             ('giuly', 2),\n             ('dù', 2),\n             ('khng', 1),\n             ('ghi', 3),\n             ('lưới', 3),\n             ('duyên', 1),\n             ('mùa', 2),\n             ('kai', 1),\n             ('còi', 1),\n             ('khoác', 1),\n             ('áo', 1),\n             ('monaco', 1),\n             ('từng', 1),\n             ('sút', 2),\n             ('thủng', 1),\n             ('deportiv', 1),\n             ('thang', 1),\n             ('8', 1),\n             ('3', 2),\n             ('y', 1),\n             ('vòng', 1),\n             ('champions', 1),\n             ('league', 1),\n             ('độ', 1),\n             ('chàng', 1),\n             ('trai', 1),\n             ('góp', 1),\n             ('chiến', 1),\n             ('barca', 1),\n             ('tuyệt', 1),\n             ('tronpg', 1),\n             ('cuộccchơi', 1),\n             ('chung', 1),\n             ('sức', 1),\n             ('hai', 3),\n             ('vợ', 2),\n             ('chồng', 1),\n             ('bạc', 3),\n             ('ngườibạncho', 1),\n             ('sxem', 1),\n             ('cái', 3),\n             ('eọi', 1),\n             ('14', 2),\n             ('răn', 1),\n             ('pbhật', 1),\n             ('đàn', 2),\n             ('vịt', 2),\n             ('săn', 1),\n             ('bắn', 1),\n             ('ta', 4),\n             ('ngô', 2),\n             ('lúa', 1),\n             ('mạch', 2),\n             ('bênbờ', 1),\n             ('hồ', 2),\n             ('bgài', 1),\n             ('tối', 4),\n             ('ôn', 2),\n             ('thuộc', 1),\n             ('nhiênsự', 1),\n             ('sàng', 1),\n             ('lọc', 1),\n             ('usáng', 1),\n             ('tác', 3),\n             ('noi', 1),\n             ('chứ', 2),\n             ('thẳnxg', 1),\n             ('tuột', 1),\n             ('ruột', 1),\n             ('ngựa', 1),\n             ('nữia', 1),\n             ('nghĩa', 2),\n             ('làcanh', 1),\n             ('thành', 1),\n             ('công', 1),\n             ('chxính', 1),\n             ('mình', 9),\n             ('bênvách', 1),\n             ('khoáng', 1),\n             ('chất', 1),\n             ('khác', 7),\n             ('nắng', 2),\n             ('mặt', 1),\n             ('trời', 1),\n             ('enó', 1),\n             ('màu', 2),\n             ('sắc', 1),\n             ('niềm', 1),\n             ('vui', 1),\n             ('ấy', 2),\n             ('chỉkéodài', 1),\n             ('đầy', 1),\n             ('15', 1),\n             ('khômguốngbất', 1),\n             ('cứ', 2),\n             ('loai', 1),\n             ('thức', 4),\n             ('bữa', 1),\n             ('hiệp', 2),\n             ('vận', 1),\n             ('tế', 2),\n             ('iata', 1),\n             ('cảnh', 1),\n             ('giá', 1),\n             ('dầu', 1),\n             ('khiến', 2),\n             ('hãng', 2),\n             ('hànig', 1),\n             ('rgiới', 1),\n             ('thivt', 1),\n             ('hại', 1),\n             ('khoảng', 3),\n             ('55', 1),\n             ('tỳ', 1),\n             ('kéo', 1),\n             ('the', 1),\n             ('hang', 1),\n             ('loạthấnđề', 1),\n             ('bất', 1),\n             ('ổng', 1),\n             ('udoanh', 1),\n             ('vệ', 2),\n             ('dusit', 1),\n             ('lẵi', 1),\n             ('cxệcxh', 1),\n             ('cột', 1),\n             ('dọctrongtnh', 1),\n             ('huống', 1),\n             ('phạt', 1),\n             ('ethì', 1),\n             ('con', 3),\n             ('ngủ', 1),\n             ('yên', 1),\n             ('vhải', 1),\n             ('sớm', 2),\n             ('lúc', 3),\n             ('quá', 2),\n             ('tủi', 1),\n             ('thay', 3),\n             ('cựcsnhọc', 1),\n             ('giác', 2),\n             ('áywnáy', 1),\n             ('chăm', 2),\n             ('ksóc', 1),\n             ('chỗ', 2),\n             ('mãi', 1),\n             ('sáu', 1),\n             ('tháng', 3),\n             ('cơ', 1),\n             ('mới', 3),\n             ('mai', 1),\n             ('bếp', 1),\n             ('luàm', 1),\n             ('cxiếc', 1),\n             ('vợt', 1),\n             ('đồeg', 1),\n             ('hương', 1),\n             ('justine', 1),\n             ('henin', 1),\n             ('cógiák8', 1),\n             ('207', 1),\n             ('bie', 1),\n             ('xuấtdhiện', 1),\n             ('lây', 1),\n             ('lan', 1),\n             ('khiếnq', 1),\n             ('ninh', 1),\n             ('nâng', 2),\n             ('mức', 2),\n             ('ngưi', 1),\n             ('hiên', 1),\n             ('bn', 1),\n             ('manhg', 1),\n             ('netskyag', 1),\n             ('pfhát', 1),\n             ('tun', 1),\n             ('brazil', 1),\n             ('argentina', 1),\n             ('ssong', 1),\n             ('chuyên', 1),\n             ('virus', 2),\n             ('bản', 2),\n             ('thế', 5),\n             ('nhờ', 3),\n             ('diện', 1),\n             ('luôn', 3),\n             ('nhắc', 1),\n             ('nhở', 1),\n             ('msự', 1),\n             ('khmnw', 1),\n             ('lãng', 1),\n             ('quên', 2),\n             ('rộng', 2),\n             ('hữu', 2),\n             ('hạn', 1),\n             ('trở', 1),\n             ('bwẵyt', 1),\n             ('tử', 1),\n             ('niệm', 1),\n             ('phạm', 1),\n             ('tuấn', 2),\n             ('chú', 1),\n             ('hình', 4),\n             ('chk', 1),\n             ('tưởng', 1),\n             ('dắt', 1),\n             ('cóthểsản', 1),\n             ('rết', 1),\n             ('tớ', 1),\n             ('đãn', 1),\n             ('80', 1),\n             ('phim', 3),\n             ('đợt', 1),\n             ('lãi', 1),\n             ('suất', 2),\n             ('fed', 1),\n             ('ngỏ', 1),\n             ('tục', 1),\n             ('alãi', 1),\n             ('bảnm', 1),\n             ('thong', 1),\n             ('bqo', 1),\n             ('fpt', 1),\n             ('xâydựng', 1),\n             ('quản', 1),\n             ('sách', 1),\n             ('kho', 2),\n             ('nghĩ', 3),\n             ('thử', 1),\n             ('goì', 1),\n             ('ồi', 1),\n             ('đức', 1),\n             ('bán', 1),\n             ('bánh', 1),\n             ('mỳ', 1),\n             ('pizza', 1),\n             ('pho', 1),\n             ('mátk', 1),\n             ('bồi', 1),\n             ('quét', 1),\n             ('dọ', 1),\n             ('toilet', 1),\n             ('ọc', 1),\n             ('160', 1),\n             ('chơi', 1),\n             ('trs', 1),\n             ('16', 1),\n             ('bia', 2),\n             ('dừng', 1),\n             ('bja', 1),\n             ('cuối', 1),\n             ('kèm', 1),\n             ('cốci', 1),\n             ('kolsch', 1),\n             ('tửtùtrên', 1),\n             ('đường', 2),\n             ('cô', 2),\n             ('đrầu', 1),\n             ('khởi', 1),\n             ('nghiệptdiễn', 1),\n             ('xuất', 1),\n             ('đài', 1),\n             ('trgnền', 1),\n             ('khtnh', 1),\n             ('tạilosangeles', 1),\n             ('rộ', 1),\n             ('đầutay', 1),\n             ('zoya', 1),\n             ('co', 3),\n             ('cắm', 1),\n             ('điện', 2),\n             ('sạc', 1),\n             ('máypda', 1),\n             ('thoại', 1),\n             ('xách', 1),\n             ('ô', 1),\n             ('tô', 2),\n             ('60', 1),\n             ('giây', 1),\n             ('key', 1),\n             ('chain', 1),\n             ('độnh', 1),\n             ('chuỗi', 1),\n             ('cchính', 1),\n             ('nhkều', 1),\n             ('ẩn', 1),\n             ...])"
     },
     "execution_count": 5,
     "metadata": {},
     "output_type": "execute_result"
    }
   ],
   "source": [
    "word_unk_level_tokenizer.fit_on_texts(error_texts)\n",
    "word_unk_level_tokenizer.word_counts"
   ],
   "metadata": {
    "collapsed": false,
    "ExecuteTime": {
     "end_time": "2024-03-31T11:15:53.673527Z",
     "start_time": "2024-03-31T11:15:53.631298Z"
    }
   },
   "id": "c30a76b95a091ea1",
   "execution_count": 5
  },
  {
   "cell_type": "code",
   "outputs": [],
   "source": [
    "MAX_WORD_LEVEL_TOKENS = 128\n",
    "MAX_CHARACTER_LEVEL_TOKENS = 200"
   ],
   "metadata": {
    "collapsed": false,
    "ExecuteTime": {
     "end_time": "2024-03-31T11:15:53.679306Z",
     "start_time": "2024-03-31T11:15:53.675336Z"
    }
   },
   "id": "ca35672e7370971f",
   "execution_count": 6
  },
  {
   "cell_type": "code",
   "outputs": [],
   "source": [
    "from tensorflow.keras.preprocessing.sequence import pad_sequences\n",
    "\n",
    "input_sequences = word_level_tokenizer.texts_to_sequences(error_texts)\n",
    "output_sequences = word_level_tokenizer.texts_to_sequences(correct_texts)\n",
    "unk_input_sequences = word_unk_level_tokenizer.texts_to_sequences(error_texts)\n",
    "\n",
    "character_level_input_sequences = []\n",
    "\n",
    "for sequence in unk_input_sequences:\n",
    "    character_level_input_sequence = []\n",
    "    for word_token in sequence:\n",
    "        word = word_unk_level_tokenizer.index_word[word_token]\n",
    "        word = character_level_tokenizer.texts_to_sequences(word)\n",
    "        word_chars = [each[0] for each in word]\n",
    "        character_level_input_sequence.append(word_chars)\n",
    "    character_level_input_sequence = pad_sequences(character_level_input_sequence, maxlen=MAX_CHARACTER_LEVEL_TOKENS, padding='post', truncating='post')\n",
    "    character_level_input_sequences.append(character_level_input_sequence)\n",
    "\n"
   ],
   "metadata": {
    "collapsed": false,
    "ExecuteTime": {
     "end_time": "2024-03-31T11:15:53.737485Z",
     "start_time": "2024-03-31T11:15:53.681097Z"
    }
   },
   "id": "40b825572d89fe75",
   "execution_count": 7
  },
  {
   "cell_type": "code",
   "outputs": [],
   "source": [
    "\n",
    "\n",
    "\n",
    "def prepare_batch(input, output):\n",
    "    word_level_input = word_level_tokenizer.texts_to_sequences(input)\n",
    "    word_level_input = tf.ragged.constant(word_level_input)\n",
    "    word_level_input = word_level_input[:, :MAX_WORD_LEVEL_TOKENS]\n",
    "    word_level_input = word_level_input.to_tensor()\n",
    "\n",
    "    unk_input_sequences = word_unk_level_tokenizer.texts_to_sequences(input)\n",
    "    character_level_input_sequences = []\n",
    "\n",
    "    for sequence in unk_input_sequences:\n",
    "        character_level_input_sequence = []\n",
    "        for word_token in sequence:\n",
    "            word = word_unk_level_tokenizer.index_word[word_token]\n",
    "            word = character_level_tokenizer.texts_to_sequences(word)\n",
    "            word_chars = [each[0] for each in word]\n",
    "            character_level_input_sequence.append(word_chars)\n",
    "        character_level_input_sequence = tf.ragged.constant(character_level_input_sequence)\n",
    "        character_level_input_sequence = character_level_input_sequence[:MAX_WORD_LEVEL_TOKENS,\n",
    "                                         :MAX_CHARACTER_LEVEL_TOKENS]\n",
    "        character_level_input_sequence = character_level_input_sequence.to_tensor()\n",
    "        character_level_input_sequences.append(character_level_input_sequence)\n",
    "\n",
    "    print(character_level_input_sequences)\n",
    "    character_level_input_sequences = tf.ragged.constant(character_level_input_sequences)\n",
    "\n",
    "    output = word_level_tokenizer.texts_to_sequences(output)\n",
    "    output = tf.ragged.constant(output)\n",
    "    output = output[:, :MAX_WORD_LEVEL_TOKENS]\n",
    "    output = output.to_tensor()\n",
    "\n",
    "    return (word_level_input, character_level_input_sequences), output"
   ],
   "metadata": {
    "collapsed": false,
    "ExecuteTime": {
     "end_time": "2024-03-31T11:15:53.749892Z",
     "start_time": "2024-03-31T11:15:53.739550Z"
    }
   },
   "id": "23d34deb433228db",
   "execution_count": 8
  },
  {
   "cell_type": "code",
   "outputs": [],
   "source": [
    "# print(prepare_batch(['nhanh di hoc day', 'xin day'], ['xin nam', 'xin']))"
   ],
   "metadata": {
    "collapsed": false,
    "ExecuteTime": {
     "end_time": "2024-03-31T11:15:53.760397Z",
     "start_time": "2024-03-31T11:15:53.751656Z"
    }
   },
   "id": "6b990c718be05e11",
   "execution_count": 9
  },
  {
   "cell_type": "code",
   "outputs": [],
   "source": [
    "BUFFER_SIZE = 20000\n",
    "BATCH_SIZE = 64"
   ],
   "metadata": {
    "collapsed": false,
    "ExecuteTime": {
     "end_time": "2024-03-31T11:15:53.768678Z",
     "start_time": "2024-03-31T11:15:53.761885Z"
    }
   },
   "id": "99c7a4166f1a5a5b",
   "execution_count": 10
  },
  {
   "cell_type": "code",
   "outputs": [],
   "source": [
    "from HierarchicalTransformerEncoder import HierarchicalTransformerEncoder\n",
    "\n",
    "model = HierarchicalTransformerEncoder(num_character_level_layers=4,\n",
    "                                       num_word_level_layers=12,\n",
    "                                       character_level_d_model=128,\n",
    "                                       word_level_d_model=786,\n",
    "                                       num_heads=3, dff=512,\n",
    "                                       vocab_size=100000, character_vocab_size=10000)"
   ],
   "metadata": {
    "collapsed": false,
    "ExecuteTime": {
     "end_time": "2024-03-31T11:15:54.051148Z",
     "start_time": "2024-03-31T11:15:53.769948Z"
    }
   },
   "id": "7588ce8d87f47c5b",
   "execution_count": 11
  },
  {
   "cell_type": "code",
   "outputs": [],
   "source": [
    "from HierarchicalTransformerEncoder import custom_loss\n",
    "\n",
    "model.compile(optimizer='adam', loss=custom_loss)"
   ],
   "metadata": {
    "collapsed": false,
    "ExecuteTime": {
     "end_time": "2024-03-31T11:15:54.087707Z",
     "start_time": "2024-03-31T11:15:54.052399Z"
    }
   },
   "id": "19369c0f61882e99",
   "execution_count": 12
  },
  {
   "cell_type": "code",
   "outputs": [],
   "source": [
    "input_sequences = pad_sequences(input_sequences, maxlen=MAX_WORD_LEVEL_TOKENS, padding='post', truncating='post')\n",
    "output_sequences = pad_sequences(output_sequences, maxlen=MAX_WORD_LEVEL_TOKENS, padding='post', truncating='post')\n",
    "\n",
    "character_level_input_sequences = pad_sequences(character_level_input_sequences, maxlen=MAX_WORD_LEVEL_TOKENS, padding='post',\n",
    "                                                 truncating='post')\n",
    "\n",
    "input_sequences_np = np.array(input_sequences)\n",
    "character_level_input_sequences_np = np.array(character_level_input_sequences)\n",
    "output_sequences_np = np.array(output_sequences)"
   ],
   "metadata": {
    "collapsed": false,
    "ExecuteTime": {
     "end_time": "2024-03-31T11:15:54.102313Z",
     "start_time": "2024-03-31T11:15:54.089448Z"
    }
   },
   "id": "f2445c9ee0e9cf04",
   "execution_count": 13
  },
  {
   "cell_type": "code",
   "outputs": [
    {
     "name": "stdout",
     "output_type": "stream",
     "text": [
      "tf.Tensor(\n",
      "[[  1  41 223 ...   0   0   0]\n",
      " [332 333 545 ...   0   0   0]\n",
      " [235 125 555 ...   0   0   0]\n",
      " ...\n",
      " [ 29  65  92 ...   0   0   0]\n",
      " [396 536 535 ...   0   0   0]\n",
      " [  6  57 484 ...   0   0   0]], shape=(100, 128), dtype=int32)\n",
      "[[[ 2  5  9 ...  0  0  0]\n",
      "  [ 2  3 22 ...  0  0  0]\n",
      "  [14 48 19 ...  0  0  0]\n",
      "  ...\n",
      "  [ 0  0  0 ...  0  0  0]\n",
      "  [ 0  0  0 ...  0  0  0]\n",
      "  [ 0  0  0 ...  0  0  0]]\n",
      "\n",
      " [[11 47  6 ...  0  0  0]\n",
      "  [16  6 33 ...  0  0  0]\n",
      "  [16 26  5 ...  0  0  0]\n",
      "  ...\n",
      "  [ 0  0  0 ...  0  0  0]\n",
      "  [ 0  0  0 ...  0  0  0]\n",
      "  [ 0  0  0 ...  0  0  0]]\n",
      "\n",
      " [[23 13  2 ...  0  0  0]\n",
      "  [ 4  3 52 ...  0  0  0]\n",
      "  [24  9 19 ...  0  0  0]\n",
      "  ...\n",
      "  [ 0  0  0 ...  0  0  0]\n",
      "  [ 0  0  0 ...  0  0  0]\n",
      "  [ 0  0  0 ...  0  0  0]]\n",
      "\n",
      " ...\n",
      "\n",
      " [[ 5  3 71 ...  0  0  0]\n",
      "  [ 2 33  2 ...  0  0  0]\n",
      "  [ 4  6 29 ...  0  0  0]\n",
      "  ...\n",
      "  [ 0  0  0 ...  0  0  0]\n",
      "  [ 0  0  0 ...  0  0  0]\n",
      "  [ 0  0  0 ...  0  0  0]]\n",
      "\n",
      " [[10 22 46 ...  0  0  0]\n",
      "  [20  6 11 ...  0  0  0]\n",
      "  [ 3 16 14 ...  0  0  0]\n",
      "  ...\n",
      "  [ 0  0  0 ...  0  0  0]\n",
      "  [ 0  0  0 ...  0  0  0]\n",
      "  [ 0  0  0 ...  0  0  0]]\n",
      "\n",
      " [[ 5  3 12 ...  0  0  0]\n",
      "  [ 8  2  3 ...  0  0  0]\n",
      "  [35 19  0 ...  0  0  0]\n",
      "  ...\n",
      "  [ 0  0  0 ...  0  0  0]\n",
      "  [ 0  0  0 ...  0  0  0]\n",
      "  [ 0  0  0 ...  0  0  0]]]\n"
     ]
    },
    {
     "name": "stderr",
     "output_type": "stream",
     "text": [
      "2024-03-31 18:16:05.708050: W tensorflow/tsl/framework/bfc_allocator.cc:485] Allocator (mklcpu) ran out of memory trying to allocate 156.25GiB (rounded to 167772160000)requested by op ResourceGather\n",
      "If the cause is memory fragmentation maybe the environment variable 'TF_GPU_ALLOCATOR=cuda_malloc_async' will improve the situation. \n",
      "Current allocation summary follows.\n",
      "Current allocation summary follows.\n",
      "2024-03-31 18:16:05.708091: I tensorflow/tsl/framework/bfc_allocator.cc:1039] BFCAllocator dump for mklcpu\n",
      "2024-03-31 18:16:05.708107: I tensorflow/tsl/framework/bfc_allocator.cc:1046] Bin (256): \tTotal Chunks: 0, Chunks in use: 0. 0B allocated for chunks. 0B in use in bin. 0B client-requested in use in bin.\n",
      "2024-03-31 18:16:05.708115: I tensorflow/tsl/framework/bfc_allocator.cc:1046] Bin (512): \tTotal Chunks: 0, Chunks in use: 0. 0B allocated for chunks. 0B in use in bin. 0B client-requested in use in bin.\n",
      "2024-03-31 18:16:05.708122: I tensorflow/tsl/framework/bfc_allocator.cc:1046] Bin (1024): \tTotal Chunks: 0, Chunks in use: 0. 0B allocated for chunks. 0B in use in bin. 0B client-requested in use in bin.\n",
      "2024-03-31 18:16:05.708128: I tensorflow/tsl/framework/bfc_allocator.cc:1046] Bin (2048): \tTotal Chunks: 0, Chunks in use: 0. 0B allocated for chunks. 0B in use in bin. 0B client-requested in use in bin.\n",
      "2024-03-31 18:16:05.708134: I tensorflow/tsl/framework/bfc_allocator.cc:1046] Bin (4096): \tTotal Chunks: 0, Chunks in use: 0. 0B allocated for chunks. 0B in use in bin. 0B client-requested in use in bin.\n",
      "2024-03-31 18:16:05.708144: I tensorflow/tsl/framework/bfc_allocator.cc:1046] Bin (8192): \tTotal Chunks: 0, Chunks in use: 0. 0B allocated for chunks. 0B in use in bin. 0B client-requested in use in bin.\n",
      "2024-03-31 18:16:05.708154: I tensorflow/tsl/framework/bfc_allocator.cc:1046] Bin (16384): \tTotal Chunks: 0, Chunks in use: 0. 0B allocated for chunks. 0B in use in bin. 0B client-requested in use in bin.\n",
      "2024-03-31 18:16:05.708161: I tensorflow/tsl/framework/bfc_allocator.cc:1046] Bin (32768): \tTotal Chunks: 0, Chunks in use: 0. 0B allocated for chunks. 0B in use in bin. 0B client-requested in use in bin.\n",
      "2024-03-31 18:16:05.708167: I tensorflow/tsl/framework/bfc_allocator.cc:1046] Bin (65536): \tTotal Chunks: 0, Chunks in use: 0. 0B allocated for chunks. 0B in use in bin. 0B client-requested in use in bin.\n",
      "2024-03-31 18:16:05.708173: I tensorflow/tsl/framework/bfc_allocator.cc:1046] Bin (131072): \tTotal Chunks: 0, Chunks in use: 0. 0B allocated for chunks. 0B in use in bin. 0B client-requested in use in bin.\n",
      "2024-03-31 18:16:05.708180: I tensorflow/tsl/framework/bfc_allocator.cc:1046] Bin (262144): \tTotal Chunks: 0, Chunks in use: 0. 0B allocated for chunks. 0B in use in bin. 0B client-requested in use in bin.\n",
      "2024-03-31 18:16:05.708187: I tensorflow/tsl/framework/bfc_allocator.cc:1046] Bin (524288): \tTotal Chunks: 0, Chunks in use: 0. 0B allocated for chunks. 0B in use in bin. 0B client-requested in use in bin.\n",
      "2024-03-31 18:16:05.708200: I tensorflow/tsl/framework/bfc_allocator.cc:1046] Bin (1048576): \tTotal Chunks: 2, Chunks in use: 2. 2.00MiB allocated for chunks. 2.00MiB in use in bin. 2.00MiB client-requested in use in bin.\n",
      "2024-03-31 18:16:05.708212: I tensorflow/tsl/framework/bfc_allocator.cc:1046] Bin (2097152): \tTotal Chunks: 1, Chunks in use: 0. 2.00MiB allocated for chunks. 0B in use in bin. 0B client-requested in use in bin.\n",
      "2024-03-31 18:16:05.708226: I tensorflow/tsl/framework/bfc_allocator.cc:1046] Bin (4194304): \tTotal Chunks: 6, Chunks in use: 4. 32.79MiB allocated for chunks. 22.05MiB in use in bin. 22.05MiB client-requested in use in bin.\n",
      "2024-03-31 18:16:05.708239: I tensorflow/tsl/framework/bfc_allocator.cc:1046] Bin (8388608): \tTotal Chunks: 1, Chunks in use: 0. 11.12MiB allocated for chunks. 0B in use in bin. 0B client-requested in use in bin.\n",
      "2024-03-31 18:16:05.708250: I tensorflow/tsl/framework/bfc_allocator.cc:1046] Bin (16777216): \tTotal Chunks: 1, Chunks in use: 0. 16.09MiB allocated for chunks. 0B in use in bin. 0B client-requested in use in bin.\n",
      "2024-03-31 18:16:05.708261: I tensorflow/tsl/framework/bfc_allocator.cc:1046] Bin (33554432): \tTotal Chunks: 1, Chunks in use: 1. 38.38MiB allocated for chunks. 38.38MiB in use in bin. 38.38MiB client-requested in use in bin.\n",
      "2024-03-31 18:16:05.708271: I tensorflow/tsl/framework/bfc_allocator.cc:1046] Bin (67108864): \tTotal Chunks: 0, Chunks in use: 0. 0B allocated for chunks. 0B in use in bin. 0B client-requested in use in bin.\n",
      "2024-03-31 18:16:05.708281: I tensorflow/tsl/framework/bfc_allocator.cc:1046] Bin (134217728): \tTotal Chunks: 0, Chunks in use: 0. 0B allocated for chunks. 0B in use in bin. 0B client-requested in use in bin.\n",
      "2024-03-31 18:16:05.708296: I tensorflow/tsl/framework/bfc_allocator.cc:1046] Bin (268435456): \tTotal Chunks: 8, Chunks in use: 3. 7.96GiB allocated for chunks. 2.73GiB in use in bin. 2.73GiB client-requested in use in bin.\n",
      "2024-03-31 18:16:05.708309: I tensorflow/tsl/framework/bfc_allocator.cc:1062] Bin for 156.25GiB was 256.00MiB, Chunk State: \n",
      "2024-03-31 18:16:05.708325: I tensorflow/tsl/framework/bfc_allocator.cc:1068]   Size: 473.62MiB | Requested Size: 12.50MiB | in_use: 0 | bin_num: 20, prev:   Size: 38.38MiB | Requested Size: 38.38MiB | in_use: 1 | bin_num: -1\n",
      "2024-03-31 18:16:05.708336: I tensorflow/tsl/framework/bfc_allocator.cc:1068]   Size: 512.00MiB | Requested Size: 12.50MiB | in_use: 0 | bin_num: 20\n",
      "2024-03-31 18:16:05.708349: I tensorflow/tsl/framework/bfc_allocator.cc:1068]   Size: 724.16MiB | Requested Size: 12.50MiB | in_use: 0 | bin_num: 20, prev:   Size: 299.83MiB | Requested Size: 299.83MiB | in_use: 1 | bin_num: -1\n",
      "2024-03-31 18:16:05.708362: I tensorflow/tsl/framework/bfc_allocator.cc:1068]   Size: 798.00MiB | Requested Size: 0B | in_use: 0 | bin_num: 20, prev:   Size: 1.22GiB | Requested Size: 1.22GiB | in_use: 1 | bin_num: -1\n",
      "2024-03-31 18:16:05.708375: I tensorflow/tsl/framework/bfc_allocator.cc:1068]   Size: 2.78GiB | Requested Size: 12.50MiB | in_use: 0 | bin_num: 20, prev:   Size: 1.22GiB | Requested Size: 1.22GiB | in_use: 1 | bin_num: -1\n",
      "2024-03-31 18:16:05.708384: I tensorflow/tsl/framework/bfc_allocator.cc:1075] Next region of size 4294967296\n",
      "2024-03-31 18:16:05.708395: I tensorflow/tsl/framework/bfc_allocator.cc:1095] InUse at 705559ff6040 of size 1310720000 next 17\n",
      "2024-03-31 18:16:05.708404: I tensorflow/tsl/framework/bfc_allocator.cc:1095] Free  at 7055a81f6040 of size 2984247296 next 18446744073709551615\n",
      "2024-03-31 18:16:05.708412: I tensorflow/tsl/framework/bfc_allocator.cc:1075] Next region of size 2147483648\n",
      "2024-03-31 18:16:05.708421: I tensorflow/tsl/framework/bfc_allocator.cc:1095] InUse at 70565dff8040 of size 1310720000 next 113\n",
      "2024-03-31 18:16:05.708430: I tensorflow/tsl/framework/bfc_allocator.cc:1095] Free  at 7056ac1f8040 of size 836763648 next 18446744073709551615\n",
      "2024-03-31 18:16:05.708438: I tensorflow/tsl/framework/bfc_allocator.cc:1075] Next region of size 1073741824\n",
      "2024-03-31 18:16:05.708447: I tensorflow/tsl/framework/bfc_allocator.cc:1095] InUse at 7056dfffa040 of size 314400000 next 13\n",
      "2024-03-31 18:16:05.708456: I tensorflow/tsl/framework/bfc_allocator.cc:1095] Free  at 7056f2bcfd40 of size 759341824 next 18446744073709551615\n",
      "2024-03-31 18:16:05.708464: I tensorflow/tsl/framework/bfc_allocator.cc:1075] Next region of size 536870912\n",
      "2024-03-31 18:16:05.708473: I tensorflow/tsl/framework/bfc_allocator.cc:1095] InUse at 705720ffc040 of size 40243200 next 9\n",
      "2024-03-31 18:16:05.708484: I tensorflow/tsl/framework/bfc_allocator.cc:1095] Free  at 70572365d040 of size 496627712 next 18446744073709551615\n",
      "2024-03-31 18:16:05.708492: I tensorflow/tsl/framework/bfc_allocator.cc:1075] Next region of size 536870912\n",
      "2024-03-31 18:16:05.708502: I tensorflow/tsl/framework/bfc_allocator.cc:1095] Free  at 705740ffd040 of size 536870912 next 18446744073709551615\n",
      "2024-03-31 18:16:05.708512: I tensorflow/tsl/framework/bfc_allocator.cc:1075] Next region of size 33554432\n",
      "2024-03-31 18:16:05.708521: I tensorflow/tsl/framework/bfc_allocator.cc:1095] InUse at 705760ffe040 of size 6438912 next 7\n",
      "2024-03-31 18:16:05.708529: I tensorflow/tsl/framework/bfc_allocator.cc:1095] Free  at 705761622040 of size 5120000 next 11\n",
      "2024-03-31 18:16:05.708539: I tensorflow/tsl/framework/bfc_allocator.cc:1095] InUse at 705761b04040 of size 5120000 next 14\n",
      "2024-03-31 18:16:05.708545: I tensorflow/tsl/framework/bfc_allocator.cc:1095] Free  at 705761fe6040 of size 16875520 next 18446744073709551615\n",
      "2024-03-31 18:16:05.708550: I tensorflow/tsl/framework/bfc_allocator.cc:1075] Next region of size 16777216\n",
      "2024-03-31 18:16:05.708556: I tensorflow/tsl/framework/bfc_allocator.cc:1095] InUse at 705762fff040 of size 6438912 next 2\n",
      "2024-03-31 18:16:05.708561: I tensorflow/tsl/framework/bfc_allocator.cc:1095] Free  at 705763623040 of size 2097152 next 3\n",
      "2024-03-31 18:16:05.708567: I tensorflow/tsl/framework/bfc_allocator.cc:1095] InUse at 705763823040 of size 1048576 next 4\n",
      "2024-03-31 18:16:05.708572: I tensorflow/tsl/framework/bfc_allocator.cc:1095] InUse at 705763923040 of size 1048576 next 5\n",
      "2024-03-31 18:16:05.708578: I tensorflow/tsl/framework/bfc_allocator.cc:1095] Free  at 705763a23040 of size 6144000 next 18446744073709551615\n",
      "2024-03-31 18:16:05.708583: I tensorflow/tsl/framework/bfc_allocator.cc:1075] Next region of size 16777216\n",
      "2024-03-31 18:16:05.708589: I tensorflow/tsl/framework/bfc_allocator.cc:1095] InUse at 705768947040 of size 5120000 next 15\n",
      "2024-03-31 18:16:05.708596: I tensorflow/tsl/framework/bfc_allocator.cc:1095] Free  at 705768e29040 of size 11657216 next 18446744073709551615\n",
      "2024-03-31 18:16:05.708602: I tensorflow/tsl/framework/bfc_allocator.cc:1100]      Summary of in-use Chunks by size: \n",
      "2024-03-31 18:16:05.708609: I tensorflow/tsl/framework/bfc_allocator.cc:1103] 2 Chunks of size 1048576 totalling 2.00MiB\n",
      "2024-03-31 18:16:05.708616: I tensorflow/tsl/framework/bfc_allocator.cc:1103] 2 Chunks of size 5120000 totalling 9.77MiB\n",
      "2024-03-31 18:16:05.708623: I tensorflow/tsl/framework/bfc_allocator.cc:1103] 2 Chunks of size 6438912 totalling 12.28MiB\n",
      "2024-03-31 18:16:05.708629: I tensorflow/tsl/framework/bfc_allocator.cc:1103] 1 Chunks of size 40243200 totalling 38.38MiB\n",
      "2024-03-31 18:16:05.708635: I tensorflow/tsl/framework/bfc_allocator.cc:1103] 1 Chunks of size 314400000 totalling 299.83MiB\n",
      "2024-03-31 18:16:05.708641: I tensorflow/tsl/framework/bfc_allocator.cc:1103] 2 Chunks of size 1310720000 totalling 2.44GiB\n",
      "2024-03-31 18:16:05.708649: I tensorflow/tsl/framework/bfc_allocator.cc:1107] Sum Total of in-use chunks: 2.79GiB\n",
      "2024-03-31 18:16:05.708654: I tensorflow/tsl/framework/bfc_allocator.cc:1109] Total bytes in pool: 8657043456 memory_limit_: 16488194048 available bytes: 7831150592 curr_region_allocation_bytes_: 8589934592\n",
      "2024-03-31 18:16:05.708664: I tensorflow/tsl/framework/bfc_allocator.cc:1114] Stats: \n",
      "Limit:                     16488194048\n",
      "InUse:                      3001298176\n",
      "MaxInUse:                   3040967936\n",
      "NumAllocs:                         324\n",
      "MaxAllocSize:               1310720000\n",
      "Reserved:                            0\n",
      "PeakReserved:                        0\n",
      "LargestFreeBlock:                    0\n",
      "\n",
      "2024-03-31 18:16:05.708673: W tensorflow/tsl/framework/bfc_allocator.cc:497] ****************_________________________________****************_________*****_______**___________*\n",
      "2024-03-31 18:16:05.708702: W tensorflow/core/framework/op_kernel.cc:1828] OP_REQUIRES failed at resource_variable_ops.cc:726 : RESOURCE_EXHAUSTED: OOM when allocating tensor with shape[100,128,200,128,128] and type float on /job:localhost/replica:0/task:0/device:CPU:0 by allocator mklcpu\n"
     ]
    },
    {
     "ename": "ResourceExhaustedError",
     "evalue": "Exception encountered when calling layer 'embedding_2' (type Embedding).\n\n{{function_node __wrapped__ResourceGather_device_/job:localhost/replica:0/task:0/device:CPU:0}} OOM when allocating tensor with shape[100,128,200,128,128] and type float on /job:localhost/replica:0/task:0/device:CPU:0 by allocator mklcpu [Op:ResourceGather] name: \n\nCall arguments received by layer 'embedding_2' (type Embedding):\n  • inputs=tf.Tensor(shape=(100, 128, 200, 128), dtype=float32)",
     "output_type": "error",
     "traceback": [
      "\u001B[0;31m---------------------------------------------------------------------------\u001B[0m",
      "\u001B[0;31mResourceExhaustedError\u001B[0m                    Traceback (most recent call last)",
      "Cell \u001B[0;32mIn[14], line 1\u001B[0m\n\u001B[0;32m----> 1\u001B[0m output \u001B[38;5;241m=\u001B[39m \u001B[43mmodel\u001B[49m\u001B[43m(\u001B[49m\u001B[43minput_sequences_np\u001B[49m\u001B[43m,\u001B[49m\u001B[43m \u001B[49m\u001B[43mcharacter_level_input_sequences_np\u001B[49m\u001B[43m)\u001B[49m\n",
      "File \u001B[0;32m~/.local/lib/python3.10/site-packages/keras/src/utils/traceback_utils.py:70\u001B[0m, in \u001B[0;36mfilter_traceback.<locals>.error_handler\u001B[0;34m(*args, **kwargs)\u001B[0m\n\u001B[1;32m     67\u001B[0m     filtered_tb \u001B[38;5;241m=\u001B[39m _process_traceback_frames(e\u001B[38;5;241m.\u001B[39m__traceback__)\n\u001B[1;32m     68\u001B[0m     \u001B[38;5;66;03m# To get the full stack trace, call:\u001B[39;00m\n\u001B[1;32m     69\u001B[0m     \u001B[38;5;66;03m# `tf.debugging.disable_traceback_filtering()`\u001B[39;00m\n\u001B[0;32m---> 70\u001B[0m     \u001B[38;5;28;01mraise\u001B[39;00m e\u001B[38;5;241m.\u001B[39mwith_traceback(filtered_tb) \u001B[38;5;28;01mfrom\u001B[39;00m \u001B[38;5;28;01mNone\u001B[39;00m\n\u001B[1;32m     71\u001B[0m \u001B[38;5;28;01mfinally\u001B[39;00m:\n\u001B[1;32m     72\u001B[0m     \u001B[38;5;28;01mdel\u001B[39;00m filtered_tb\n",
      "File \u001B[0;32m~/Documents/projects/python/SpellingCorrection_HierarchicalTransformerEncoder/HierarchicalTransformerEncoder.py:46\u001B[0m, in \u001B[0;36mHierarchicalTransformerEncoder.call\u001B[0;34m(self, word_level_inputs, character_level_inputs)\u001B[0m\n\u001B[1;32m     43\u001B[0m \u001B[38;5;28mprint\u001B[39m(word_level_inputs)\n\u001B[1;32m     44\u001B[0m \u001B[38;5;28mprint\u001B[39m(character_level_inputs)\n\u001B[0;32m---> 46\u001B[0m character_level_encoder_output \u001B[38;5;241m=\u001B[39m \u001B[38;5;28;43mself\u001B[39;49m\u001B[38;5;241;43m.\u001B[39;49m\u001B[43mcharacter_level_encoder\u001B[49m\u001B[43m(\u001B[49m\u001B[43mcharacter_level_encoder_outputs\u001B[49m\u001B[43m)\u001B[49m\n\u001B[1;32m     48\u001B[0m concat_output \u001B[38;5;241m=\u001B[39m \u001B[38;5;28mself\u001B[39m\u001B[38;5;241m.\u001B[39mcombined_layer([word_embedding_outputs, character_level_encoder_output])\n\u001B[1;32m     50\u001B[0m word_level_output \u001B[38;5;241m=\u001B[39m \u001B[38;5;28mself\u001B[39m\u001B[38;5;241m.\u001B[39mword_level_encoder(concat_output)\n",
      "File \u001B[0;32m~/Documents/projects/python/SpellingCorrection_HierarchicalTransformerEncoder/Encoder.py:27\u001B[0m, in \u001B[0;36mEncoder.call\u001B[0;34m(self, x)\u001B[0m\n\u001B[1;32m     25\u001B[0m \u001B[38;5;28;01mdef\u001B[39;00m \u001B[38;5;21mcall\u001B[39m(\u001B[38;5;28mself\u001B[39m, x):\n\u001B[1;32m     26\u001B[0m     \u001B[38;5;66;03m# `x` is token-IDs shape: (batch, seq_len)\u001B[39;00m\n\u001B[0;32m---> 27\u001B[0m     x \u001B[38;5;241m=\u001B[39m \u001B[38;5;28;43mself\u001B[39;49m\u001B[38;5;241;43m.\u001B[39;49m\u001B[43mpos_embedding\u001B[49m\u001B[43m(\u001B[49m\u001B[43mx\u001B[49m\u001B[43m)\u001B[49m  \u001B[38;5;66;03m# Shape `(batch_size, seq_len, d_model)`.\u001B[39;00m\n\u001B[1;32m     29\u001B[0m     \u001B[38;5;66;03m# Add dropout.\u001B[39;00m\n\u001B[1;32m     30\u001B[0m     x \u001B[38;5;241m=\u001B[39m \u001B[38;5;28mself\u001B[39m\u001B[38;5;241m.\u001B[39mdropout(x)\n",
      "File \u001B[0;32m~/Documents/projects/python/SpellingCorrection_HierarchicalTransformerEncoder/PositionalEmbedding.py:31\u001B[0m, in \u001B[0;36mPositionalEmbedding.call\u001B[0;34m(self, x)\u001B[0m\n\u001B[1;32m     29\u001B[0m \u001B[38;5;28;01mdef\u001B[39;00m \u001B[38;5;21mcall\u001B[39m(\u001B[38;5;28mself\u001B[39m, x):\n\u001B[1;32m     30\u001B[0m     length \u001B[38;5;241m=\u001B[39m tf\u001B[38;5;241m.\u001B[39mshape(x)[\u001B[38;5;241m1\u001B[39m]\n\u001B[0;32m---> 31\u001B[0m     x \u001B[38;5;241m=\u001B[39m \u001B[38;5;28;43mself\u001B[39;49m\u001B[38;5;241;43m.\u001B[39;49m\u001B[43membedding\u001B[49m\u001B[43m(\u001B[49m\u001B[43mx\u001B[49m\u001B[43m)\u001B[49m\n\u001B[1;32m     32\u001B[0m     \u001B[38;5;66;03m# This factor sets the relative scale of the embedding and positonal_encoding.\u001B[39;00m\n\u001B[1;32m     33\u001B[0m     x \u001B[38;5;241m*\u001B[39m\u001B[38;5;241m=\u001B[39m tf\u001B[38;5;241m.\u001B[39mmath\u001B[38;5;241m.\u001B[39msqrt(tf\u001B[38;5;241m.\u001B[39mcast(\u001B[38;5;28mself\u001B[39m\u001B[38;5;241m.\u001B[39md_model, tf\u001B[38;5;241m.\u001B[39mfloat32))\n",
      "\u001B[0;31mResourceExhaustedError\u001B[0m: Exception encountered when calling layer 'embedding_2' (type Embedding).\n\n{{function_node __wrapped__ResourceGather_device_/job:localhost/replica:0/task:0/device:CPU:0}} OOM when allocating tensor with shape[100,128,200,128,128] and type float on /job:localhost/replica:0/task:0/device:CPU:0 by allocator mklcpu [Op:ResourceGather] name: \n\nCall arguments received by layer 'embedding_2' (type Embedding):\n  • inputs=tf.Tensor(shape=(100, 128, 200, 128), dtype=float32)"
     ]
    }
   ],
   "source": [
    "output = model(input_sequences_np, character_level_input_sequences_np)"
   ],
   "metadata": {
    "collapsed": false,
    "ExecuteTime": {
     "end_time": "2024-03-31T11:16:06.166492Z",
     "start_time": "2024-03-31T11:15:54.105017Z"
    }
   },
   "id": "5b986ae6699a3191",
   "execution_count": 14
  },
  {
   "cell_type": "markdown",
   "source": [],
   "metadata": {
    "collapsed": false
   },
   "id": "ffb0038c5420ac9b"
  },
  {
   "cell_type": "code",
   "outputs": [],
   "source": [
    "\n",
    "\n",
    "\n",
    "model.fit([input_sequences_np, character_level_input_sequences_np], output_sequences_np, epochs=10, batch_size=20)"
   ],
   "metadata": {
    "collapsed": false
   },
   "id": "d959e3830400be73",
   "execution_count": null
  },
  {
   "cell_type": "code",
   "outputs": [],
   "source": [
    "character_level_input_sequences"
   ],
   "metadata": {
    "collapsed": false
   },
   "id": "a33f4a440dbc37b8",
   "execution_count": null
  }
 ],
 "metadata": {
  "kernelspec": {
   "display_name": "Python 3",
   "language": "python",
   "name": "python3"
  },
  "language_info": {
   "codemirror_mode": {
    "name": "ipython",
    "version": 2
   },
   "file_extension": ".py",
   "mimetype": "text/x-python",
   "name": "python",
   "nbconvert_exporter": "python",
   "pygments_lexer": "ipython2",
   "version": "2.7.6"
  }
 },
 "nbformat": 4,
 "nbformat_minor": 5
}
